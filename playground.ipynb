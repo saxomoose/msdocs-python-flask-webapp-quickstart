{
 "cells": [
  {
   "cell_type": "code",
   "execution_count": null,
   "id": "8ad31dd2",
   "metadata": {},
   "outputs": [],
   "source": [
    "import urllib3\n",
    "\n",
    "headers = {\n",
    "    \"Cache-Control\": \"no-cache\",\n",
    "    \"Content-Type\": \"application/json\",\n",
    "}\n",
    "\n",
    "response = urllib3.request(\n",
    "    \"GET\",\n",
    "    \"https://azcapp-test-api.bravemoss-2ad27923.westeurope.azurecontainerapps.io/catalog\",\n",
    "    headers=headers)\n",
    "\n",
    "print(response.status)\n",
    "\n",
    "response_data = response.data\n",
    "print(response_data)"
   ]
  },
  {
   "cell_type": "code",
   "execution_count": null,
   "id": "23d5bf1e",
   "metadata": {},
   "outputs": [],
   "source": [
    "import urllib3\n",
    "import base64\n",
    "\n",
    "headers = {\n",
    "    \"Cache-Control\": \"no-cache\",\n",
    "    \"Content-Type\": \"application/json\",\n",
    "}\n",
    "\n",
    "response = urllib3.request(\n",
    "    \"GET\",\n",
    "    \"127.0.0.1:5000/api/v1beta/verenigingsregister/catalog\",\n",
    "    headers=headers\n",
    ")\n",
    "\n",
    "print(response.status)\n",
    "\n",
    "response_data = response.data\n",
    "print(response_data)"
   ]
  },
  {
   "cell_type": "code",
   "execution_count": null,
   "id": "bf76ba87",
   "metadata": {},
   "outputs": [],
   "source": [
    "import base64\n",
    "import dotenv\n",
    "import urllib3\n",
    "\n",
    "DQS_API_CLIENT_ID_VERENIGINGSREGISTER=dotenv.get_key('.env.dev', 'DQS_API_CLIENT_ID_VERENIGINGSREGISTER')\n",
    "DQS_API_CLIENT_SECRET_CLEARTEXT_VERENIGINGSREGISTER=dotenv.get_key('.env.dev', 'DQS_API_CLIENT_SECRET_CLEARTEXT_VERENIGINGSREGISTER')\n",
    "\n",
    "credentials = f\"{DQS_API_CLIENT_ID_VERENIGINGSREGISTER}:{DQS_API_CLIENT_SECRET_CLEARTEXT_VERENIGINGSREGISTER}\"\n",
    "credentials_as_bytes = bytes(credentials, 'utf-8')\n",
    "credentials_encoded = base64.b64encode(credentials_as_bytes).decode('utf-8')\n",
    "auth_header_value = f\"Basic {credentials_encoded}\"\n",
    "\n",
    "headers = {\n",
    "    \"Cache-Control\": \"no-cache\",\n",
    "    \"Content-Type\": \"application/json\",\n",
    "    \"Authorization\": auth_header_value\n",
    "}\n",
    "\n",
    "response = urllib3.request(\n",
    "    \"GET\",\n",
    "    \"127.0.0.1:5000/api/v1beta/verenigingsregister/catalog\",\n",
    "    headers=headers\n",
    ")\n",
    "\n",
    "print(response.status)\n",
    "\n",
    "response_data = response.data\n",
    "print(response_data)"
   ]
  }
 ],
 "metadata": {
  "kernelspec": {
   "display_name": "common",
   "language": "python",
   "name": "python3"
  },
  "language_info": {
   "codemirror_mode": {
    "name": "ipython",
    "version": 3
   },
   "file_extension": ".py",
   "mimetype": "text/x-python",
   "name": "python",
   "nbconvert_exporter": "python",
   "pygments_lexer": "ipython3",
   "version": "3.12.3"
  }
 },
 "nbformat": 4,
 "nbformat_minor": 5
}
